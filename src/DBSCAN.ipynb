{
 "cells": [
  {
   "cell_type": "markdown",
   "metadata": {},
   "source": [
    "Import Libraries"
   ]
  },
  {
   "cell_type": "code",
   "execution_count": null,
   "metadata": {},
   "outputs": [],
   "source": [
    "import pandas as pd                               # For dataframes\n",
    "import matplotlib.pyplot as plt                   # For plotting data\n",
    "import seaborn as sns                             # For plotting data\n",
    "from sklearn.cluster import DBSCAN                # For DBSCAN\n",
    "import numpy as np                                # For various computations\n",
    "from sklearn.preprocessing import StandardScaler  # For standardizing data    \n",
    "from sklearn.neighbors import NearestNeighbors    # For nearest neighbors"
   ]
  },
  {
   "cell_type": "markdown",
   "metadata": {},
   "source": [
    "Load and prepare data"
   ]
  },
  {
   "cell_type": "code",
   "execution_count": null,
   "metadata": {},
   "outputs": [],
   "source": [
    "# Reads the .csv file into variable df\n",
    "df = pd.read_csv('data/penguins.csv')\n",
    "\n",
    "# Separates the class variable in y\n",
    "y = df.y\n",
    "\n",
    "# Drop the y column from df\n",
    "df = df.drop('y', axis=1)\n",
    "\n",
    "# Standardizes df using fit_transform (range 0-1)\n",
    "df = pd.DataFrame(\n",
    "    StandardScaler().fit_transform(df),\n",
    "    columns=df.columns)\n",
    "\n",
    "# Displays the first 5 rows of df\n",
    "df.head()"
   ]
  },
  {
   "cell_type": "markdown",
   "metadata": {},
   "source": [
    "Calculate eps (epsilon neighborhood radius)"
   ]
  },
  {
   "cell_type": "code",
   "execution_count": null,
   "metadata": {},
   "outputs": [],
   "source": [
    "# Set k to 7\n",
    "k = 7\n",
    "\n",
    "# Fits a NearestNeighbors object to df\n",
    "nn = NearestNeighbors(n_neighbors=k) \\\n",
    "    .fit(df)\n",
    "\n",
    "# Finds the distance of k closest neighbors\n",
    "dist, ind = nn.kneighbors(df)\n",
    "\n",
    "# Sorts the distances\n",
    "dist = np.sort(dist, axis=0)[:,1]\n",
    "\n",
    "# Plots the distances\n",
    "plt.plot(dist)\n",
    "\n",
    "# Draws a horizontal line at the bend\n",
    "plt.axhline(y=.6, color='red', ls='--')"
   ]
  },
  {
   "cell_type": "markdown",
   "metadata": {},
   "source": [
    "Examine the plot to identify the point where it changes direction sharply, resembling the shape of a knee. Determine the y-axis value at this knee point and set the epsilon value to that specific y-axis value."
   ]
  },
  {
   "cell_type": "code",
   "execution_count": null,
   "metadata": {},
   "outputs": [],
   "source": [
    "# Fits a DBSCAN object to df\n",
    "db=DBSCAN(eps=0.6, min_samples=k) \\\n",
    "    .fit(df)\n",
    "\n",
    "# Creates a scatter plot to visualize the clusters\n",
    "sns.scatterplot(\n",
    "    x='bill_length_mm', \n",
    "    y='bill_depth_mm',\n",
    "    data=df, \n",
    "    hue=y,\n",
    "    style=db.labels_,\n",
    "    palette=['orange', 'green', 'blue'])"
   ]
  }
 ],
 "metadata": {
  "language_info": {
   "name": "python"
  }
 },
 "nbformat": 4,
 "nbformat_minor": 2
}
